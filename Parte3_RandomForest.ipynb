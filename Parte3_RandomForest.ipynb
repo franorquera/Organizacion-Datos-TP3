{
  "nbformat": 4,
  "nbformat_minor": 0,
  "metadata": {
    "colab": {
      "name": "Parte3-RandomForest.ipynb",
      "provenance": [],
      "collapsed_sections": []
    },
    "kernelspec": {
      "name": "python3",
      "display_name": "Python 3"
    },
    "language_info": {
      "name": "python"
    }
  },
  "cells": [
    {
      "cell_type": "markdown",
      "source": [
        "# Parte 3\n",
        "## Radom Forest"
      ],
      "metadata": {
        "id": "NgMfSXuo7Ff5"
      }
    },
    {
      "cell_type": "code",
      "execution_count": 1,
      "metadata": {
        "id": "_HhMiMTj4Wmw",
        "colab": {
          "base_uri": "https://localhost:8080/"
        },
        "outputId": "bab95ee2-c631-459a-b43e-d2369e0268a5"
      },
      "outputs": [
        {
          "output_type": "stream",
          "name": "stdout",
          "text": [
            "[nltk_data] Downloading package stopwords to /root/nltk_data...\n",
            "[nltk_data]   Unzipping corpora/stopwords.zip.\n"
          ]
        },
        {
          "output_type": "execute_result",
          "data": {
            "text/plain": [
              "True"
            ]
          },
          "metadata": {},
          "execution_count": 1
        }
      ],
      "source": [
        "import pandas as pd\n",
        "import numpy as np\n",
        "from sklearn.ensemble import RandomForestClassifier\n",
        "from sklearn.model_selection import train_test_split\n",
        "# Hypter-parametros\n",
        "from sklearn.model_selection import RandomizedSearchCV\n",
        "# Metrica \n",
        "from sklearn.metrics import roc_auc_score\n",
        "# Encoder \n",
        "from sklearn.preprocessing import OneHotEncoder\n",
        "from sklearn.preprocessing import LabelEncoder\n",
        "from sklearn.preprocessing import OrdinalEncoder\n",
        "# CountVectorizer\n",
        "from sklearn.feature_extraction.text import CountVectorizer\n",
        "from sklearn.feature_extraction.text import TfidfVectorizer\n",
        "import nltk\n",
        "from nltk.corpus import stopwords\n",
        "nltk.download('stopwords')"
      ]
    },
    {
      "cell_type": "code",
      "source": [
        "# Seteo una seed para que el modelo sea reproducible\n",
        "np.random.seed(seed=27)"
      ],
      "metadata": {
        "id": "VXJ6ntM4BP_o"
      },
      "execution_count": 2,
      "outputs": []
    },
    {
      "cell_type": "code",
      "source": [
        "train_df = pd.read_parquet('/content/drive/MyDrive/Orga Datos/TP3/TP3-OK/train.parquet')\n",
        "test_df = pd.read_parquet('/content/drive/MyDrive/Orga Datos/TP3/TP3-OK/test.parquet')"
      ],
      "metadata": {
        "id": "Rep-kaMD4ki7"
      },
      "execution_count": 3,
      "outputs": []
    },
    {
      "cell_type": "code",
      "source": [
        "train_df.content.fillna(' ', inplace=True)\n",
        "test_df.content.fillna(' ', inplace=True)"
      ],
      "metadata": {
        "id": "eU2oaP6svRe7"
      },
      "execution_count": 4,
      "outputs": []
    },
    {
      "cell_type": "code",
      "source": [
        "X = train_df[train_df.columns[2:-2]] # no incluyo la url ni las cols popular ni shares\n",
        "y = train_df[train_df.columns[-2]] # col popular (la que quiero predecir)"
      ],
      "metadata": {
        "id": "qiMmmXqZW4Jw"
      },
      "execution_count": 5,
      "outputs": []
    },
    {
      "cell_type": "code",
      "source": [
        "X_train, X_test, y_train, y_test = train_test_split(X, y, test_size=0.2, random_state=42)"
      ],
      "metadata": {
        "id": "UXjKOkiyW19Z"
      },
      "execution_count": 6,
      "outputs": []
    },
    {
      "cell_type": "code",
      "source": [
        "# Utilizo CountVectorizer para encodear"
      ],
      "metadata": {
        "id": "bs-Z4agiVzgj"
      },
      "execution_count": 7,
      "outputs": []
    },
    {
      "cell_type": "code",
      "source": [
        "stop_words = set(stopwords.words('english'))"
      ],
      "metadata": {
        "id": "Ovzjcnx3V-ae"
      },
      "execution_count": 8,
      "outputs": []
    },
    {
      "cell_type": "code",
      "source": [
        "content_list_X_train = X_train['content'].to_list()\n",
        "count_vectorizer = TfidfVectorizer(lowercase=True, stop_words=stop_words, analyzer=\"word\", max_features=5)"
      ],
      "metadata": {
        "id": "oR5IuW_qVzeN"
      },
      "execution_count": 9,
      "outputs": []
    },
    {
      "cell_type": "code",
      "source": [
        "tf_matrix_X_train = count_vectorizer.fit_transform(content_list_X_train)\n",
        "tf_array_X_train = tf_matrix_X_train.toarray()"
      ],
      "metadata": {
        "id": "qBd8NNklVzbW"
      },
      "execution_count": 10,
      "outputs": []
    },
    {
      "cell_type": "code",
      "source": [
        "most_common_words_X_train_df = pd.DataFrame(tf_array_X_train, columns=count_vectorizer.get_feature_names_out())"
      ],
      "metadata": {
        "id": "hp0gDyBgVzYv"
      },
      "execution_count": 11,
      "outputs": []
    },
    {
      "cell_type": "code",
      "source": [
        "X_train = pd.concat([X_train.reset_index(), most_common_words_X_train_df.reset_index()], axis=1)"
      ],
      "metadata": {
        "id": "QofXwMGfVzV4"
      },
      "execution_count": 12,
      "outputs": []
    },
    {
      "cell_type": "code",
      "source": [
        "X_train = X_train.drop(columns=['index', 'content'])"
      ],
      "metadata": {
        "id": "w804Ocw5b14-"
      },
      "execution_count": 13,
      "outputs": []
    },
    {
      "cell_type": "code",
      "source": [
        "content_list_X_test = X_test['content'].to_list()"
      ],
      "metadata": {
        "id": "laZFy82XX5wT"
      },
      "execution_count": 14,
      "outputs": []
    },
    {
      "cell_type": "code",
      "source": [
        "tf_matrix_X_test = count_vectorizer.transform(content_list_X_test)\n",
        "tf_array_X_test = tf_matrix_X_test.toarray()"
      ],
      "metadata": {
        "id": "VZIfdT4pX5ts"
      },
      "execution_count": 15,
      "outputs": []
    },
    {
      "cell_type": "code",
      "source": [
        "most_common_words_X_test_df = pd.DataFrame(tf_array_X_test, columns=count_vectorizer.get_feature_names_out())"
      ],
      "metadata": {
        "id": "zS2ah8NNX5rV"
      },
      "execution_count": 16,
      "outputs": []
    },
    {
      "cell_type": "code",
      "source": [
        "X_test = pd.concat([X_test.reset_index(), most_common_words_X_test_df.reset_index()], axis=1)"
      ],
      "metadata": {
        "id": "kPwSYI8ZX5od"
      },
      "execution_count": 17,
      "outputs": []
    },
    {
      "cell_type": "code",
      "source": [
        "X_test = X_test.drop(columns=['index', 'content'])"
      ],
      "metadata": {
        "id": "Cv-ojTe2YeXw"
      },
      "execution_count": 18,
      "outputs": []
    },
    {
      "cell_type": "code",
      "source": [
        "# Encodeo surprise1"
      ],
      "metadata": {
        "id": "b9gHABuGxZB5"
      },
      "execution_count": 19,
      "outputs": []
    },
    {
      "cell_type": "code",
      "source": [
        "oho_surprise1_encoder = OneHotEncoder(handle_unknown='ignore')\n",
        "encoded_surprise1_train = oho_surprise1_encoder.fit_transform(X_train[['surprise1']]).todense().astype(int)\n",
        "encoded_surprise1_test = oho_surprise1_encoder.transform(X_test[['surprise1']]).todense().astype(int)"
      ],
      "metadata": {
        "id": "7a3-YjDRrEfS"
      },
      "execution_count": 20,
      "outputs": []
    },
    {
      "cell_type": "code",
      "source": [
        "oho_categories_surprise1_X_train_df = pd.DataFrame(encoded_surprise1_train, columns=oho_surprise1_encoder.categories_)"
      ],
      "metadata": {
        "id": "Lzv8n8FesNaE"
      },
      "execution_count": 21,
      "outputs": []
    },
    {
      "cell_type": "code",
      "source": [
        "X_train = pd.concat([X_train.reset_index(), oho_categories_surprise1_X_train_df], axis=1)"
      ],
      "metadata": {
        "id": "FEBf8HtPrRJ3"
      },
      "execution_count": 22,
      "outputs": []
    },
    {
      "cell_type": "code",
      "source": [
        "X_train = X_train.drop(columns=['index', 'surprise1'])"
      ],
      "metadata": {
        "id": "EbQdCWcGrRFJ"
      },
      "execution_count": 23,
      "outputs": []
    },
    {
      "cell_type": "code",
      "source": [
        "oho_categories_surprise1_X_test_df = pd.DataFrame(encoded_surprise1_test, columns=oho_surprise1_encoder.categories_)"
      ],
      "metadata": {
        "id": "ndBMV0OAvi37"
      },
      "execution_count": 24,
      "outputs": []
    },
    {
      "cell_type": "code",
      "source": [
        "X_test = pd.concat([X_test.reset_index(), oho_categories_surprise1_X_test_df], axis=1)"
      ],
      "metadata": {
        "id": "4A1F03n0vizf"
      },
      "execution_count": 25,
      "outputs": []
    },
    {
      "cell_type": "code",
      "source": [
        "X_test = X_test.drop(columns=['index', 'surprise1'])"
      ],
      "metadata": {
        "id": "yt_ZQ1-Oviwo"
      },
      "execution_count": 26,
      "outputs": []
    },
    {
      "cell_type": "code",
      "source": [
        "# Encodeo surprise2"
      ],
      "metadata": {
        "id": "eXnagraXwB8v"
      },
      "execution_count": 27,
      "outputs": []
    },
    {
      "cell_type": "code",
      "source": [
        "oho_surprise2_encoder = OneHotEncoder(handle_unknown='ignore')\n",
        "encoded_surprise2_train = oho_surprise2_encoder.fit_transform(X_train[['surprise2']]).todense().astype(int)\n",
        "encoded_surprise2_test = oho_surprise2_encoder.transform(X_test[['surprise2']]).todense().astype(int)"
      ],
      "metadata": {
        "id": "c4xzaC4Tt7Nv"
      },
      "execution_count": 28,
      "outputs": []
    },
    {
      "cell_type": "code",
      "source": [
        "oho_categories_surprise2_X_train_df = pd.DataFrame(encoded_surprise2_train, columns=oho_surprise2_encoder.categories_)"
      ],
      "metadata": {
        "id": "1uMjjVORwHge"
      },
      "execution_count": 29,
      "outputs": []
    },
    {
      "cell_type": "code",
      "source": [
        "X_train = pd.concat([X_train.reset_index(), oho_categories_surprise2_X_train_df], axis=1)"
      ],
      "metadata": {
        "id": "61sOKn56wHeI"
      },
      "execution_count": 30,
      "outputs": []
    },
    {
      "cell_type": "code",
      "source": [
        "X_train = X_train.drop(columns=['index', 'surprise2'])"
      ],
      "metadata": {
        "id": "FCV1vrfWwF7h"
      },
      "execution_count": 31,
      "outputs": []
    },
    {
      "cell_type": "code",
      "source": [
        "oho_categories_surprise2_X_test_df = pd.DataFrame(encoded_surprise2_test, columns=oho_surprise2_encoder.categories_)"
      ],
      "metadata": {
        "id": "sDBJ5ASLwF5e"
      },
      "execution_count": 32,
      "outputs": []
    },
    {
      "cell_type": "code",
      "source": [
        "X_test = pd.concat([X_test.reset_index(), oho_categories_surprise2_X_test_df], axis=1)"
      ],
      "metadata": {
        "id": "Q7egTgu9wF4k"
      },
      "execution_count": 33,
      "outputs": []
    },
    {
      "cell_type": "code",
      "source": [
        "X_test = X_test.drop(columns=['index', 'surprise2'])"
      ],
      "metadata": {
        "id": "zHwxskEFw8Kz"
      },
      "execution_count": 34,
      "outputs": []
    },
    {
      "cell_type": "code",
      "source": [
        "# Remplazo los Nan"
      ],
      "metadata": {
        "id": "sJvGX4Dew8EA"
      },
      "execution_count": 35,
      "outputs": []
    },
    {
      "cell_type": "code",
      "source": [
        "def llenar_nulos(df):\n",
        "  df['n_tokens_title'].fillna(df['n_tokens_title'].mean(), inplace=True)\n",
        "  df['n_tokens_content'].fillna(df['n_tokens_content'].mean(), inplace=True)\n",
        "  df['n_non_stop_unique_tokens'].fillna(df['n_non_stop_unique_tokens'].mean(), inplace=True)\n",
        "  df['num_hrefs'].fillna(float(df['num_hrefs'].mode()), inplace=True)\n",
        "  df['num_self_hrefs'].fillna(float(df['num_self_hrefs'].mode()), inplace=True)\n",
        "  df['num_imgs'].fillna(df['num_imgs'].min(), inplace=True)\n",
        "  df['num_videos'].fillna(df['num_videos'].min(), inplace=True)\n",
        "  df['LDA_00'].fillna(df['LDA_00'].mean(), inplace=True)\n",
        "  df['LDA_01'].fillna(df['LDA_01'].mean(), inplace=True)\n",
        "  df['LDA_02'].fillna(df['LDA_02'].mean(), inplace=True)\n",
        "  df['LDA_03'].fillna(df['LDA_03'].mean(), inplace=True)\n",
        "  df['kw_min_min'].fillna(float(df['kw_min_min'].mode()), inplace=True)\n",
        "  df['kw_max_min'].fillna(float(df['kw_max_min'].mode()), inplace=True)\n",
        "  df['kw_min_avg'].fillna(float(df['kw_min_avg'].mode()), inplace=True)\n",
        "  df['kw_avg_min'].fillna(float(df['kw_avg_min'].mode()), inplace=True)\n",
        "  df['kw_min_max'].fillna(float(df['kw_min_max'].mode()), inplace=True)\n",
        "  df['kw_max_max'].fillna(float(df['kw_max_max'].mode()), inplace=True)\n",
        "  df['kw_min_avg'].fillna(float(df['kw_min_avg'].mode()), inplace=True)\n",
        "  df['self_reference_avg_sharess'].fillna(float(df['self_reference_avg_sharess'].mode()), inplace=True)\n",
        "  df['max_positive_polarity'].fillna(df['max_positive_polarity'].max(), inplace=True)\n",
        "\n",
        "  df.fillna(0.0, inplace=True)"
      ],
      "metadata": {
        "id": "g2MV7b99Gpdk"
      },
      "execution_count": 36,
      "outputs": []
    },
    {
      "cell_type": "code",
      "source": [
        "llenar_nulos(X_train)\n",
        "llenar_nulos(X_test)"
      ],
      "metadata": {
        "id": "oIx6Ji3rGqRu"
      },
      "execution_count": 37,
      "outputs": []
    },
    {
      "cell_type": "code",
      "source": [
        "X_valid, X_test, y_valid, y_test = train_test_split(X_test, y_test, test_size=0.2, random_state=42)"
      ],
      "metadata": {
        "id": "Va5lqyyf5ce3"
      },
      "execution_count": 38,
      "outputs": []
    },
    {
      "cell_type": "code",
      "source": [
        "modelRandomFor = RandomForestClassifier()"
      ],
      "metadata": {
        "id": "5TKHJGad5eAg"
      },
      "execution_count": 39,
      "outputs": []
    },
    {
      "cell_type": "code",
      "source": [
        "param_grid = [\n",
        "  { 'n_estimators': [10, 50, 100],\n",
        "    'max_depth': [10, 20, 30],\n",
        "    'min_samples_split': [2, 5, 10],\n",
        "    'min_samples_leaf': [1, 2, 4],\n",
        "    'max_features': ['log2', 'sqrt'],\n",
        "  }\n",
        "]\n",
        "clf = RandomizedSearchCV(modelRandomFor, param_grid, cv = 2, n_jobs=1, n_iter=3)\n",
        "best_clf = clf.fit(X_train, y_train)"
      ],
      "metadata": {
        "id": "w8Tt3H_N268q"
      },
      "execution_count": null,
      "outputs": []
    },
    {
      "cell_type": "code",
      "source": [
        "predictions = best_clf.predict_proba(X_valid)[:,1]"
      ],
      "metadata": {
        "id": "0H2n00JL61Z9"
      },
      "execution_count": null,
      "outputs": []
    },
    {
      "cell_type": "code",
      "source": [
        "metric = roc_auc_score(y_valid, predictions)\n",
        "print(\"La metrica del modelo para validacion es: \", metric)"
      ],
      "metadata": {
        "colab": {
          "base_uri": "https://localhost:8080/"
        },
        "id": "VHr-PPCQ6-Gc",
        "outputId": "4381593c-41e0-461e-df1c-77399ae24819"
      },
      "execution_count": 42,
      "outputs": [
        {
          "output_type": "stream",
          "name": "stdout",
          "text": [
            "La metrica del modelo para validacion es:  0.7073584627473424\n"
          ]
        }
      ]
    },
    {
      "cell_type": "markdown",
      "source": [
        "## Entre Random Forest y XGBoost me quedo con Radom como mejor modelo"
      ],
      "metadata": {
        "id": "POWX40mllExv"
      }
    },
    {
      "cell_type": "code",
      "source": [
        "x_test = test_df[test_df.columns[2:-2]]\n",
        "y_test = test_df[test_df.columns[-2]]"
      ],
      "metadata": {
        "id": "Uk0PGgQIlLdv"
      },
      "execution_count": 43,
      "outputs": []
    },
    {
      "cell_type": "code",
      "source": [
        "content_list_x_test = x_test['content'].to_list()"
      ],
      "metadata": {
        "id": "EEZJtuGslRqw"
      },
      "execution_count": 44,
      "outputs": []
    },
    {
      "cell_type": "code",
      "source": [
        "tf_matrix_x_test = count_vectorizer.transform(content_list_x_test)\n",
        "tf_array_x_test = tf_matrix_x_test.toarray()"
      ],
      "metadata": {
        "id": "z2UJdauFlRoK"
      },
      "execution_count": 45,
      "outputs": []
    },
    {
      "cell_type": "code",
      "source": [
        "most_common_words_x_test_df = pd.DataFrame(tf_array_x_test, columns=count_vectorizer.get_feature_names_out())"
      ],
      "metadata": {
        "id": "vhYs51lVlRlk"
      },
      "execution_count": 46,
      "outputs": []
    },
    {
      "cell_type": "code",
      "source": [
        "x_test = pd.concat([x_test.reset_index(), most_common_words_x_test_df.reset_index()], axis=1)"
      ],
      "metadata": {
        "id": "i1JHSHkXlRi8"
      },
      "execution_count": 47,
      "outputs": []
    },
    {
      "cell_type": "code",
      "source": [
        "x_test = x_test.drop(columns=['index', 'content'])"
      ],
      "metadata": {
        "id": "1taia7KAlRg2"
      },
      "execution_count": 48,
      "outputs": []
    },
    {
      "cell_type": "code",
      "source": [
        "# Surprise 1 y 2"
      ],
      "metadata": {
        "id": "VbeTQGNxmu_-"
      },
      "execution_count": 49,
      "outputs": []
    },
    {
      "cell_type": "code",
      "source": [
        "encoded_surprise1_x_test = oho_surprise1_encoder.transform(x_test[['surprise1']]).todense().astype(int)\n",
        "encoded_surprise2_x_test = oho_surprise2_encoder.transform(x_test[['surprise2']]).todense().astype(int)"
      ],
      "metadata": {
        "id": "punPIaw-leVt"
      },
      "execution_count": 50,
      "outputs": []
    },
    {
      "cell_type": "code",
      "source": [
        "oho_categories_surprise1_x_test_df = pd.DataFrame(encoded_surprise1_x_test, columns=oho_surprise1_encoder.categories_)\n",
        "oho_categories_surprise2_x_test_df = pd.DataFrame(encoded_surprise2_x_test, columns=oho_surprise2_encoder.categories_)"
      ],
      "metadata": {
        "id": "yN9dGVGhlReS"
      },
      "execution_count": 51,
      "outputs": []
    },
    {
      "cell_type": "code",
      "source": [
        "x_test = pd.concat([x_test.reset_index(), oho_categories_surprise1_x_test_df], axis=1)\n",
        "x_test = pd.concat([x_test.reset_index(), oho_categories_surprise2_x_test_df], axis=1)"
      ],
      "metadata": {
        "id": "gUa3KiHMnojn"
      },
      "execution_count": 52,
      "outputs": []
    },
    {
      "cell_type": "code",
      "source": [
        "x_test = x_test.drop(columns=['level_0', 'index', 'surprise1', 'surprise2'])"
      ],
      "metadata": {
        "id": "8WO2b7SYoGfe"
      },
      "execution_count": 53,
      "outputs": []
    },
    {
      "cell_type": "code",
      "source": [
        "x_test['LDA_00'].fillna(x_test['LDA_00'].mean(), inplace=True)\n",
        "x_test['LDA_01'].fillna(x_test['LDA_01'].mean(), inplace=True)\n",
        "x_test['LDA_02'].fillna(x_test['LDA_02'].mean(), inplace=True)\n",
        "x_test['LDA_03'].fillna(x_test['LDA_03'].mean(), inplace=True)\n",
        "x_test.fillna(0.0, inplace=True)"
      ],
      "metadata": {
        "id": "fYxT_eqVpLgU"
      },
      "execution_count": 54,
      "outputs": []
    },
    {
      "cell_type": "code",
      "source": [
        "predictions = best_clf.predict_proba(x_test)[:,1]"
      ],
      "metadata": {
        "id": "-M1NNimhoPxf"
      },
      "execution_count": null,
      "outputs": []
    },
    {
      "cell_type": "code",
      "source": [
        "metric = roc_auc_score(y_test, predictions)\n",
        "print(\"La metrica del modelo para validacion es: \", metric)"
      ],
      "metadata": {
        "colab": {
          "base_uri": "https://localhost:8080/"
        },
        "id": "rAgZSJu5ppYi",
        "outputId": "c4496478-19b7-4fa5-8467-28224262b4d7"
      },
      "execution_count": 56,
      "outputs": [
        {
          "output_type": "stream",
          "name": "stdout",
          "text": [
            "La metrica del modelo para validacion es:  0.7260299020074477\n"
          ]
        }
      ]
    },
    {
      "cell_type": "code",
      "source": [
        "scores_test = pd.DataFrame(best_clf.cv_results_)\n",
        "scores_test.to_csv('/content/drive/MyDrive/Orga Datos/TP3/TP3-OK/scores_RandomFor_test.csv')"
      ],
      "metadata": {
        "id": "PMdOT_17ps15"
      },
      "execution_count": 57,
      "outputs": []
    }
  ]
}