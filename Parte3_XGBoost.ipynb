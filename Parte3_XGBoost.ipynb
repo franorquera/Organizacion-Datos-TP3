{
  "nbformat": 4,
  "nbformat_minor": 0,
  "metadata": {
    "colab": {
      "name": "Parte3-XGBoost.ipynb",
      "provenance": [],
      "collapsed_sections": []
    },
    "kernelspec": {
      "name": "python3",
      "display_name": "Python 3"
    },
    "language_info": {
      "name": "python"
    }
  },
  "cells": [
    {
      "cell_type": "markdown",
      "source": [
        "# Parte 3\n",
        "## XGBoost"
      ],
      "metadata": {
        "id": "GGM0SyYzNulM"
      }
    },
    {
      "cell_type": "code",
      "execution_count": 1,
      "metadata": {
        "colab": {
          "base_uri": "https://localhost:8080/"
        },
        "id": "MOaXtHKENg5m",
        "outputId": "870f3415-c1dc-45e4-b517-e17e70f80a19"
      },
      "outputs": [
        {
          "output_type": "stream",
          "name": "stdout",
          "text": [
            "[nltk_data] Downloading package stopwords to /root/nltk_data...\n",
            "[nltk_data]   Unzipping corpora/stopwords.zip.\n"
          ]
        },
        {
          "output_type": "execute_result",
          "data": {
            "text/plain": [
              "True"
            ]
          },
          "metadata": {},
          "execution_count": 1
        }
      ],
      "source": [
        "import pandas as pd\n",
        "import numpy as np\n",
        "from xgboost import XGBClassifier \n",
        "from sklearn.model_selection import train_test_split\n",
        "# Hypter-parametros\n",
        "from sklearn.model_selection import RandomizedSearchCV\n",
        "# Metrica \n",
        "from sklearn.metrics import roc_auc_score\n",
        "# Encoder \n",
        "from sklearn.preprocessing import OneHotEncoder\n",
        "from sklearn.preprocessing import LabelEncoder\n",
        "from sklearn.preprocessing import OrdinalEncoder\n",
        "# CountVectorizer\n",
        "from sklearn.feature_extraction.text import CountVectorizer\n",
        "import nltk\n",
        "from nltk.corpus import stopwords\n",
        "nltk.download('stopwords')"
      ]
    },
    {
      "cell_type": "code",
      "source": [
        "np.random.seed(seed=27)"
      ],
      "metadata": {
        "id": "UoUEJLySWWF4"
      },
      "execution_count": 2,
      "outputs": []
    },
    {
      "cell_type": "code",
      "source": [
        "train_df = pd.read_parquet('/content/drive/MyDrive/Orga Datos/TP3/TP3-OK/train.parquet')\n",
        "test_df = pd.read_parquet('/content/drive/MyDrive/Orga Datos/TP3/TP3-OK/test.parquet')\n",
        "\n",
        "train_df.content.fillna(' ', inplace=True)\n",
        "test_df.content.fillna(' ', inplace=True)"
      ],
      "metadata": {
        "id": "VrEXBY1bN2nu"
      },
      "execution_count": 3,
      "outputs": []
    },
    {
      "cell_type": "code",
      "source": [
        "X = train_df[train_df.columns[2:-2]] # no incluyo la url ni las cols popular ni shares\n",
        "y = train_df[train_df.columns[-2]] # col popular (la que quiero predecir)"
      ],
      "metadata": {
        "id": "1LcKchmjN2ij"
      },
      "execution_count": 4,
      "outputs": []
    },
    {
      "cell_type": "code",
      "source": [
        "X_train, X_test, y_train, y_test = train_test_split(X, y, test_size=0.2, random_state=42)"
      ],
      "metadata": {
        "id": "RpngoHCNN2ga"
      },
      "execution_count": 5,
      "outputs": []
    },
    {
      "cell_type": "code",
      "source": [
        "# CountVectorizer para encodear"
      ],
      "metadata": {
        "id": "vpIVBIvXN2d1"
      },
      "execution_count": 6,
      "outputs": []
    },
    {
      "cell_type": "code",
      "source": [
        "stop_words = set(stopwords.words('english'))"
      ],
      "metadata": {
        "id": "xwmw83_IN2a9"
      },
      "execution_count": 7,
      "outputs": []
    },
    {
      "cell_type": "code",
      "source": [
        "content_list_X_train = X_train['content'].to_list()\n",
        "count_vectorizer = CountVectorizer(lowercase=True, stop_words=stop_words, analyzer=\"word\", max_features=5)"
      ],
      "metadata": {
        "id": "mGr_kVQEN2YX"
      },
      "execution_count": 8,
      "outputs": []
    },
    {
      "cell_type": "code",
      "source": [
        "tf_matrix_X_train = count_vectorizer.fit_transform(content_list_X_train)\n",
        "tf_array_X_train = tf_matrix_X_train.toarray()"
      ],
      "metadata": {
        "id": "pNlO3bvyN2WA"
      },
      "execution_count": 9,
      "outputs": []
    },
    {
      "cell_type": "code",
      "source": [
        "most_common_words_X_train_df = pd.DataFrame(tf_array_X_train, columns=count_vectorizer.get_feature_names_out())"
      ],
      "metadata": {
        "id": "u1II0lm7N2Tb"
      },
      "execution_count": 10,
      "outputs": []
    },
    {
      "cell_type": "code",
      "source": [
        "X_train = pd.concat([X_train.reset_index(), most_common_words_X_train_df.reset_index()], axis=1)"
      ],
      "metadata": {
        "id": "NEwJd65UN2Qy"
      },
      "execution_count": 11,
      "outputs": []
    },
    {
      "cell_type": "code",
      "source": [
        "X_train = X_train.drop(columns=['index', 'content'])"
      ],
      "metadata": {
        "id": "MTWv8sjSN2Of"
      },
      "execution_count": 12,
      "outputs": []
    },
    {
      "cell_type": "code",
      "source": [
        "content_list_X_test = X_test['content'].to_list()"
      ],
      "metadata": {
        "id": "ky6sE0yYN2Jy"
      },
      "execution_count": 13,
      "outputs": []
    },
    {
      "cell_type": "code",
      "source": [
        "tf_matrix_X_test = count_vectorizer.transform(content_list_X_test)\n",
        "tf_array_X_test = tf_matrix_X_test.toarray()"
      ],
      "metadata": {
        "id": "HxLfi3nYObsK"
      },
      "execution_count": 14,
      "outputs": []
    },
    {
      "cell_type": "code",
      "source": [
        "most_common_words_X_test_df = pd.DataFrame(tf_array_X_test, columns=count_vectorizer.get_feature_names_out())"
      ],
      "metadata": {
        "id": "BwyhC1GJObqE"
      },
      "execution_count": 15,
      "outputs": []
    },
    {
      "cell_type": "code",
      "source": [
        "X_test = pd.concat([X_test.reset_index(), most_common_words_X_test_df.reset_index()], axis=1)"
      ],
      "metadata": {
        "id": "jHCUr7SUObnf"
      },
      "execution_count": 16,
      "outputs": []
    },
    {
      "cell_type": "code",
      "source": [
        "X_test = X_test.drop(columns=['index', 'content'])"
      ],
      "metadata": {
        "id": "wdO8wDQ7OblJ"
      },
      "execution_count": 17,
      "outputs": []
    },
    {
      "cell_type": "code",
      "source": [
        "# Encodeo surprise1"
      ],
      "metadata": {
        "id": "V6KJCtRSObiy"
      },
      "execution_count": 18,
      "outputs": []
    },
    {
      "cell_type": "code",
      "source": [
        "oho_surprise1_encoder = OneHotEncoder(handle_unknown='ignore')\n",
        "encoded_surprise1_train = oho_surprise1_encoder.fit_transform(X_train[['surprise1']]).todense().astype(int)\n",
        "encoded_surprise1_test = oho_surprise1_encoder.transform(X_test[['surprise1']]).todense().astype(int)"
      ],
      "metadata": {
        "id": "QZ5d20yQaBwn"
      },
      "execution_count": 19,
      "outputs": []
    },
    {
      "cell_type": "code",
      "source": [
        "oho_categories_surprise1_X_train_df = pd.DataFrame(encoded_surprise1_train, columns=oho_surprise1_encoder.categories_)"
      ],
      "metadata": {
        "id": "WntXKARNaBuR"
      },
      "execution_count": 20,
      "outputs": []
    },
    {
      "cell_type": "code",
      "source": [
        "X_train = pd.concat([X_train.reset_index(), oho_categories_surprise1_X_train_df], axis=1)"
      ],
      "metadata": {
        "id": "iDJZ5YkkaBrr"
      },
      "execution_count": 21,
      "outputs": []
    },
    {
      "cell_type": "code",
      "source": [
        "X_train = X_train.drop(columns=['index', 'surprise1'])"
      ],
      "metadata": {
        "id": "KZjnOq0BaBpE"
      },
      "execution_count": 22,
      "outputs": []
    },
    {
      "cell_type": "code",
      "source": [
        "oho_categories_surprise1_X_test_df = pd.DataFrame(encoded_surprise1_test, columns=oho_surprise1_encoder.categories_)"
      ],
      "metadata": {
        "id": "RaMyrU26aAVu"
      },
      "execution_count": 23,
      "outputs": []
    },
    {
      "cell_type": "code",
      "source": [
        "X_test = pd.concat([X_test.reset_index(), oho_categories_surprise1_X_test_df], axis=1)"
      ],
      "metadata": {
        "id": "YSDW0OUyaATp"
      },
      "execution_count": 24,
      "outputs": []
    },
    {
      "cell_type": "code",
      "source": [
        "X_test = X_test.drop(columns=['index', 'surprise1'])"
      ],
      "metadata": {
        "id": "ltLKo_L4a2j0"
      },
      "execution_count": 25,
      "outputs": []
    },
    {
      "cell_type": "code",
      "source": [
        "# Encodeo surprise2"
      ],
      "metadata": {
        "id": "7OLMVaXAa2hM"
      },
      "execution_count": 26,
      "outputs": []
    },
    {
      "cell_type": "code",
      "source": [
        "oho_surprise2_encoder = OneHotEncoder(handle_unknown='ignore')\n",
        "encoded_surprise2_train = oho_surprise2_encoder.fit_transform(X_train[['surprise2']]).todense().astype(int)\n",
        "encoded_surprise2_test = oho_surprise2_encoder.transform(X_test[['surprise2']]).todense().astype(int)"
      ],
      "metadata": {
        "id": "o6hZ6egqa73p"
      },
      "execution_count": 27,
      "outputs": []
    },
    {
      "cell_type": "code",
      "source": [
        "oho_categories_surprise2_X_train_df = pd.DataFrame(encoded_surprise2_train, columns=oho_surprise2_encoder.categories_)"
      ],
      "metadata": {
        "id": "6f2F49lia71l"
      },
      "execution_count": 28,
      "outputs": []
    },
    {
      "cell_type": "code",
      "source": [
        "X_train = pd.concat([X_train.reset_index(), oho_categories_surprise2_X_train_df], axis=1)"
      ],
      "metadata": {
        "id": "zn7wbUTca7y9"
      },
      "execution_count": 29,
      "outputs": []
    },
    {
      "cell_type": "code",
      "source": [
        "X_train = X_train.drop(columns=['index', 'surprise2'])"
      ],
      "metadata": {
        "id": "LlCClEELa7wX"
      },
      "execution_count": 30,
      "outputs": []
    },
    {
      "cell_type": "code",
      "source": [
        "oho_categories_surprise2_X_test_df = pd.DataFrame(encoded_surprise2_test, columns=oho_surprise2_encoder.categories_)"
      ],
      "metadata": {
        "id": "ToT2nVx_a2fH"
      },
      "execution_count": 31,
      "outputs": []
    },
    {
      "cell_type": "code",
      "source": [
        "X_test = pd.concat([X_test.reset_index(), oho_categories_surprise2_X_test_df], axis=1)"
      ],
      "metadata": {
        "id": "cAERUWB_aAQy"
      },
      "execution_count": 32,
      "outputs": []
    },
    {
      "cell_type": "code",
      "source": [
        "X_test = X_test.drop(columns=['index', 'surprise2'])"
      ],
      "metadata": {
        "id": "lqtIlKiMaAOL"
      },
      "execution_count": 33,
      "outputs": []
    },
    {
      "cell_type": "code",
      "source": [
        "# LLeno Nans"
      ],
      "metadata": {
        "id": "L0dtUWOlGzps"
      },
      "execution_count": 34,
      "outputs": []
    },
    {
      "cell_type": "code",
      "source": [
        "def llenar_nulos(df):\n",
        "  df['n_tokens_title'].fillna(df['n_tokens_title'].mean(), inplace=True)\n",
        "  df['n_tokens_content'].fillna(df['n_tokens_content'].mean(), inplace=True)\n",
        "  df['n_non_stop_unique_tokens'].fillna(df['n_non_stop_unique_tokens'].mean(), inplace=True)\n",
        "  df['num_hrefs'].fillna(float(df['num_hrefs'].mode()), inplace=True)\n",
        "  df['num_self_hrefs'].fillna(float(df['num_self_hrefs'].mode()), inplace=True)\n",
        "  df['num_imgs'].fillna(df['num_imgs'].min(), inplace=True)\n",
        "  df['num_videos'].fillna(df['num_videos'].min(), inplace=True)\n",
        "  df['LDA_00'].fillna(df['LDA_00'].mean(), inplace=True)\n",
        "  df['LDA_01'].fillna(df['LDA_01'].mean(), inplace=True)\n",
        "  df['LDA_02'].fillna(df['LDA_02'].mean(), inplace=True)\n",
        "  df['LDA_03'].fillna(df['LDA_03'].mean(), inplace=True)\n",
        "  df['kw_min_min'].fillna(float(df['kw_min_min'].mode()), inplace=True)\n",
        "  df['kw_max_min'].fillna(float(df['kw_max_min'].mode()), inplace=True)\n",
        "  df['kw_min_avg'].fillna(float(df['kw_min_avg'].mode()), inplace=True)\n",
        "  df['kw_avg_min'].fillna(float(df['kw_avg_min'].mode()), inplace=True)\n",
        "  df['kw_min_max'].fillna(float(df['kw_min_max'].mode()), inplace=True)\n",
        "  df['kw_max_max'].fillna(float(df['kw_max_max'].mode()), inplace=True)\n",
        "  df['kw_min_avg'].fillna(float(df['kw_min_avg'].mode()), inplace=True)\n",
        "  df['self_reference_avg_sharess'].fillna(float(df['self_reference_avg_sharess'].mode()), inplace=True)\n",
        "  df['max_positive_polarity'].fillna(df['max_positive_polarity'].max(), inplace=True)\n",
        "\n",
        "  df.fillna(0.0, inplace=True)"
      ],
      "metadata": {
        "id": "TZy83HrQGziH"
      },
      "execution_count": 35,
      "outputs": []
    },
    {
      "cell_type": "code",
      "source": [
        "llenar_nulos(X_train)\n",
        "llenar_nulos(X_test)"
      ],
      "metadata": {
        "id": "08v09glTGzfQ"
      },
      "execution_count": 36,
      "outputs": []
    },
    {
      "cell_type": "code",
      "source": [
        "X_valid, X_test, y_valid, y_test = train_test_split(X_test, y_test, test_size=0.2, random_state=42)"
      ],
      "metadata": {
        "id": "CftVJ-peN2G5"
      },
      "execution_count": 37,
      "outputs": []
    },
    {
      "cell_type": "code",
      "source": [
        "modeloXG = XGBClassifier()"
      ],
      "metadata": {
        "id": "Cl76t4kMN2EB"
      },
      "execution_count": 38,
      "outputs": []
    },
    {
      "cell_type": "code",
      "source": [
        "param_grid = [\n",
        "  { 'gamma': [1, 10, 20],\n",
        "    'n_estimators': [50, 100, 200],\n",
        "    'max_depth': [3, 6, 9],\n",
        "    'reg_alpha': [1, 2, 4],\n",
        "    'reg_lambda': [1,5,10]\n",
        "  }\n",
        "]\n",
        "clf = RandomizedSearchCV(modeloXG, param_grid, cv = 2, n_jobs=1, n_iter=3)\n",
        "best_clf = clf.fit(X_train, y_train)"
      ],
      "metadata": {
        "id": "Ln_U_hNeN1sV"
      },
      "execution_count": 39,
      "outputs": []
    },
    {
      "cell_type": "code",
      "source": [
        "predictions = best_clf.predict_proba(X_valid)[:,1]"
      ],
      "metadata": {
        "id": "5E2BnkuRQcDM"
      },
      "execution_count": 40,
      "outputs": []
    },
    {
      "cell_type": "code",
      "source": [
        "metric = roc_auc_score(y_valid, predictions)\n",
        "print(\"La metrica del modelo para validacion es: \", metric)"
      ],
      "metadata": {
        "colab": {
          "base_uri": "https://localhost:8080/"
        },
        "id": "4iMABJSzQcBG",
        "outputId": "b6167d71-3e26-492d-9695-da85eff2da0b"
      },
      "execution_count": 41,
      "outputs": [
        {
          "output_type": "stream",
          "name": "stdout",
          "text": [
            "La metrica del modelo para validacion es:  0.7041113872879425\n"
          ]
        }
      ]
    }
  ]
}