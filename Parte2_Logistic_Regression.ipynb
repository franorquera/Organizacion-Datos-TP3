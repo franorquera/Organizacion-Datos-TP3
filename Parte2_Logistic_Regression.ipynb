{
  "cells": [
    {
      "cell_type": "markdown",
      "metadata": {
        "id": "EKMDf9u3pgd4"
      },
      "source": [
        "# Parte 2\n",
        "## Logistic Regression"
      ]
    },
    {
      "cell_type": "code",
      "execution_count": 28,
      "metadata": {
        "colab": {
          "base_uri": "https://localhost:8080/"
        },
        "id": "cwA2Tdwnwfbh",
        "outputId": "2023898d-a0cd-477e-80d0-306b368af00e"
      },
      "outputs": [
        {
          "output_type": "stream",
          "name": "stdout",
          "text": [
            "[nltk_data] Downloading package stopwords to /root/nltk_data...\n",
            "[nltk_data]   Package stopwords is already up-to-date!\n"
          ]
        },
        {
          "output_type": "execute_result",
          "data": {
            "text/plain": [
              "True"
            ]
          },
          "metadata": {},
          "execution_count": 28
        }
      ],
      "source": [
        "import pandas as pd\n",
        "import numpy as np\n",
        "import seaborn as sns\n",
        "import matplotlib.pyplot as plt\n",
        "from sklearn.linear_model import LogisticRegression\n",
        "from sklearn.model_selection import train_test_split\n",
        "from sklearn.metrics import classification_report\n",
        "from sklearn.metrics import roc_auc_score\n",
        "# Encoders\n",
        "from sklearn.preprocessing import OneHotEncoder\n",
        "from sklearn.preprocessing import LabelEncoder\n",
        "from sklearn.preprocessing import OrdinalEncoder\n",
        "# Busqueda de Hiper-parametros\n",
        "from sklearn.model_selection import RandomizedSearchCV\n",
        "# TfidfVectorizer\n",
        "from sklearn.feature_extraction.text import TfidfVectorizer\n",
        "from sklearn.feature_extraction.text import CountVectorizer\n",
        "import nltk\n",
        "from nltk.corpus import stopwords\n",
        "nltk.download('stopwords')"
      ]
    },
    {
      "cell_type": "code",
      "execution_count": 29,
      "metadata": {
        "id": "szPHtHYDoDiX"
      },
      "outputs": [],
      "source": [
        "np.random.seed(seed=27)"
      ]
    },
    {
      "cell_type": "code",
      "execution_count": 30,
      "metadata": {
        "id": "orhdOJeopwmK"
      },
      "outputs": [],
      "source": [
        "train_df = pd.read_parquet('/content/drive/MyDrive/Orga Datos/TP3/TP3-OK/train.parquet')\n",
        "test_df = pd.read_parquet('/content/drive/MyDrive/Orga Datos/TP3/TP3-OK/test.parquet')\n",
        "\n",
        "train_df.content.fillna(' ', inplace=True)\n",
        "test_df.content.fillna(' ', inplace=True)"
      ]
    },
    {
      "cell_type": "code",
      "execution_count": 31,
      "metadata": {
        "id": "5xYoLw3LyDlQ"
      },
      "outputs": [],
      "source": [
        "X = train_df[train_df.columns[2:-2]] # no incluyo la url, timedelta, ni las surprise\n",
        "y = train_df[train_df.columns[-2]] # col popular (la que quiero predecir)"
      ]
    },
    {
      "cell_type": "code",
      "execution_count": 32,
      "metadata": {
        "id": "T66Cf0K_1O69"
      },
      "outputs": [],
      "source": [
        "X_train, X_test, y_train, y_test = train_test_split(X, y, test_size=0.2, random_state=42)"
      ]
    },
    {
      "cell_type": "code",
      "execution_count": 33,
      "metadata": {
        "id": "eNpzBjmKegii"
      },
      "outputs": [],
      "source": [
        "# Encodeo content con TfidfVectorizer"
      ]
    },
    {
      "cell_type": "code",
      "execution_count": 34,
      "metadata": {
        "id": "1JC0jcUfeggL"
      },
      "outputs": [],
      "source": [
        "stop_words = set(stopwords.words('english'))"
      ]
    },
    {
      "cell_type": "code",
      "execution_count": 35,
      "metadata": {
        "id": "qnVMEwz-enS1"
      },
      "outputs": [],
      "source": [
        "content_list_X_train = X_train['content'].to_list()\n",
        "tf_idf_vectorizer = TfidfVectorizer(lowercase=True, stop_words=stop_words, analyzer=\"word\", max_features=5)"
      ]
    },
    {
      "cell_type": "code",
      "execution_count": 36,
      "metadata": {
        "id": "83P_2m7BenQe"
      },
      "outputs": [],
      "source": [
        "tf_idf_matrix_X_train = tf_idf_vectorizer.fit_transform(content_list_X_train)\n",
        "tf_idf_array_X_train = tf_idf_matrix_X_train.toarray()"
      ]
    },
    {
      "cell_type": "code",
      "execution_count": 37,
      "metadata": {
        "id": "7LWiKsWjenN4"
      },
      "outputs": [],
      "source": [
        "most_common_words_X_train_df = pd.DataFrame(tf_idf_array_X_train, columns=tf_idf_vectorizer.get_feature_names_out())"
      ]
    },
    {
      "cell_type": "code",
      "execution_count": 38,
      "metadata": {
        "id": "aA0g9HjnegeG"
      },
      "outputs": [],
      "source": [
        "X_train = pd.concat([X_train.reset_index(), most_common_words_X_train_df.reset_index()], axis=1)"
      ]
    },
    {
      "cell_type": "code",
      "execution_count": 39,
      "metadata": {
        "id": "B2SX2A8DegcA"
      },
      "outputs": [],
      "source": [
        "X_train = X_train.drop(columns=['index', 'content'])"
      ]
    },
    {
      "cell_type": "code",
      "execution_count": 40,
      "metadata": {
        "id": "lHLIXlxofklM"
      },
      "outputs": [],
      "source": [
        "content_list_X_test = X_test['content'].to_list()"
      ]
    },
    {
      "cell_type": "code",
      "execution_count": 41,
      "metadata": {
        "id": "_2QmAb25fki0"
      },
      "outputs": [],
      "source": [
        "tf_idf_matrix_X_test = tf_idf_vectorizer.transform(content_list_X_test)\n",
        "tf_idf_array_X_test = tf_idf_matrix_X_test.toarray()"
      ]
    },
    {
      "cell_type": "code",
      "execution_count": 42,
      "metadata": {
        "id": "ShDle3pHfkgN"
      },
      "outputs": [],
      "source": [
        "most_common_words_X_test_df = pd.DataFrame(tf_idf_array_X_test, columns=tf_idf_vectorizer.get_feature_names_out())"
      ]
    },
    {
      "cell_type": "code",
      "execution_count": 43,
      "metadata": {
        "id": "9j5ghgxmfkd2"
      },
      "outputs": [],
      "source": [
        "X_test = pd.concat([X_test.reset_index(), most_common_words_X_test_df.reset_index()], axis=1)"
      ]
    },
    {
      "cell_type": "code",
      "execution_count": 44,
      "metadata": {
        "id": "nf7kvPlKfkau"
      },
      "outputs": [],
      "source": [
        "X_test = X_test.drop(columns=['index', 'content'])"
      ]
    },
    {
      "cell_type": "code",
      "execution_count": 45,
      "metadata": {
        "id": "CxMKj29mf_i5"
      },
      "outputs": [],
      "source": [
        "# Encodeo surprise 1 y 2"
      ]
    },
    {
      "cell_type": "code",
      "execution_count": 46,
      "metadata": {
        "id": "jXDDapH9CgCy",
        "colab": {
          "base_uri": "https://localhost:8080/"
        },
        "outputId": "d471eeaf-e801-46ef-fd30-bfe11cd90070"
      },
      "outputs": [
        {
          "output_type": "stream",
          "name": "stderr",
          "text": [
            "/usr/local/lib/python3.7/dist-packages/sklearn/preprocessing/_label.py:115: DataConversionWarning: A column-vector y was passed when a 1d array was expected. Please change the shape of y to (n_samples, ), for example using ravel().\n",
            "  y = column_or_1d(y, warn=True)\n",
            "/usr/local/lib/python3.7/dist-packages/sklearn/preprocessing/_label.py:133: DataConversionWarning: A column-vector y was passed when a 1d array was expected. Please change the shape of y to (n_samples, ), for example using ravel().\n",
            "  y = column_or_1d(y, warn=True)\n"
          ]
        }
      ],
      "source": [
        "label_enc_surprise1 = LabelEncoder()\n",
        "encoded_surprise1_train = label_enc_surprise1.fit_transform(X_train[['surprise1']]).astype(int)\n",
        "encoded_surprise1_test = label_enc_surprise1.transform(X_test[['surprise1']]).astype(int)\n",
        "\n",
        "X_train.surprise1 = encoded_surprise1_train\n",
        "X_test.surprise1 = encoded_surprise1_test"
      ]
    },
    {
      "cell_type": "code",
      "execution_count": 47,
      "metadata": {
        "id": "Mtk4xn4xgGgM",
        "colab": {
          "base_uri": "https://localhost:8080/"
        },
        "outputId": "ca98af08-6746-42f2-f70e-5d22a55ba06f"
      },
      "outputs": [
        {
          "output_type": "stream",
          "name": "stderr",
          "text": [
            "/usr/local/lib/python3.7/dist-packages/sklearn/preprocessing/_label.py:115: DataConversionWarning: A column-vector y was passed when a 1d array was expected. Please change the shape of y to (n_samples, ), for example using ravel().\n",
            "  y = column_or_1d(y, warn=True)\n",
            "/usr/local/lib/python3.7/dist-packages/sklearn/preprocessing/_label.py:133: DataConversionWarning: A column-vector y was passed when a 1d array was expected. Please change the shape of y to (n_samples, ), for example using ravel().\n",
            "  y = column_or_1d(y, warn=True)\n"
          ]
        }
      ],
      "source": [
        "label_enc_surprise2 = LabelEncoder()\n",
        "encoded_surprise2_train = label_enc_surprise2.fit_transform(X_train[['surprise2']]).astype(int)\n",
        "encoded_surprise2_test = label_enc_surprise2.transform(X_test[['surprise2']]).astype(int)\n",
        "\n",
        "X_train.surprise2 = encoded_surprise2_train\n",
        "X_test.surprise2 = encoded_surprise2_test"
      ]
    },
    {
      "cell_type": "code",
      "source": [
        "def llenar_nulos(df):\n",
        "  df['n_tokens_title'].fillna(df['n_tokens_title'].mean(), inplace=True)\n",
        "  df['n_tokens_content'].fillna(df['n_tokens_content'].mean(), inplace=True)\n",
        "  df['n_non_stop_unique_tokens'].fillna(df['n_non_stop_unique_tokens'].mean(), inplace=True)\n",
        "  df['num_hrefs'].fillna(float(df['num_hrefs'].mode()), inplace=True)\n",
        "  df['num_self_hrefs'].fillna(float(df['num_self_hrefs'].mode()), inplace=True)\n",
        "  df['num_imgs'].fillna(df['num_imgs'].min(), inplace=True)\n",
        "  df['num_videos'].fillna(df['num_videos'].min(), inplace=True)\n",
        "  df['LDA_00'].fillna(df['LDA_00'].mean(), inplace=True)\n",
        "  df['LDA_01'].fillna(df['LDA_01'].mean(), inplace=True)\n",
        "  df['LDA_02'].fillna(df['LDA_02'].mean(), inplace=True)\n",
        "  df['LDA_03'].fillna(df['LDA_03'].mean(), inplace=True)\n",
        "  df['kw_min_min'].fillna(float(df['kw_min_min'].mode()), inplace=True)\n",
        "  df['kw_max_min'].fillna(float(df['kw_max_min'].mode()), inplace=True)\n",
        "  df['kw_min_avg'].fillna(float(df['kw_min_avg'].mode()), inplace=True)\n",
        "  df['kw_avg_min'].fillna(float(df['kw_avg_min'].mode()), inplace=True)\n",
        "  df['kw_min_max'].fillna(float(df['kw_min_max'].mode()), inplace=True)\n",
        "  df['kw_max_max'].fillna(float(df['kw_max_max'].mode()), inplace=True)\n",
        "  df['kw_min_avg'].fillna(float(df['kw_min_avg'].mode()), inplace=True)\n",
        "  df['self_reference_avg_sharess'].fillna(float(df['self_reference_avg_sharess'].mode()), inplace=True)\n",
        "  df['max_positive_polarity'].fillna(df['max_positive_polarity'].max(), inplace=True)\n",
        "\n",
        "  df.fillna(0.0, inplace=True)"
      ],
      "metadata": {
        "id": "rCSI-wFAEWnd"
      },
      "execution_count": 48,
      "outputs": []
    },
    {
      "cell_type": "code",
      "source": [
        "llenar_nulos(X_train)\n",
        "llenar_nulos(X_test)"
      ],
      "metadata": {
        "id": "PoB6X2VdFO_L"
      },
      "execution_count": 49,
      "outputs": []
    },
    {
      "cell_type": "code",
      "execution_count": 50,
      "metadata": {
        "id": "aQHaX2-Y1xPQ"
      },
      "outputs": [],
      "source": [
        "X_valid, X_test, y_valid, y_test = train_test_split(X_test, y_test, test_size=0.5, random_state=42)"
      ]
    },
    {
      "cell_type": "code",
      "execution_count": 51,
      "metadata": {
        "id": "AA2PrIvnTi-9"
      },
      "outputs": [],
      "source": [
        "modelLogReg = LogisticRegression()"
      ]
    },
    {
      "cell_type": "code",
      "execution_count": null,
      "metadata": {
        "id": "dTa8jelZhIK-"
      },
      "outputs": [],
      "source": [
        "# Busqueda de Hyper-parametros --> Random Search\n",
        "param_grid = [\n",
        "  { 'penalty' : ['l2', 'none'],\n",
        "    'solver' : ['newton-cg', 'lbfgs', 'sag'],\n",
        "    'max_iter' : [100, 300, 500]\n",
        "  }\n",
        "]\n",
        "clf = RandomizedSearchCV(modelLogReg, param_grid, cv = 2, n_jobs=1, n_iter=3)\n",
        "best_clf = clf.fit(X_train, y_train)"
      ]
    },
    {
      "cell_type": "code",
      "execution_count": 53,
      "metadata": {
        "colab": {
          "base_uri": "https://localhost:8080/"
        },
        "id": "ACSzE-1DULBY",
        "outputId": "9be50289-ef13-4573-a796-9817fb3564fa"
      },
      "outputs": [
        {
          "output_type": "execute_result",
          "data": {
            "text/plain": [
              "LogisticRegression(solver='newton-cg')"
            ]
          },
          "metadata": {},
          "execution_count": 53
        }
      ],
      "source": [
        "best_clf.best_estimator_"
      ]
    },
    {
      "cell_type": "code",
      "execution_count": 54,
      "metadata": {
        "id": "J7GKCMGpV0bs"
      },
      "outputs": [],
      "source": [
        "binary_predictions = best_clf.predict(X_valid)"
      ]
    },
    {
      "cell_type": "code",
      "execution_count": 55,
      "metadata": {
        "id": "nCPkvDLCOYVj"
      },
      "outputs": [],
      "source": [
        "proab_predictions = best_clf.predict_proba(X_valid)[:,1]"
      ]
    },
    {
      "cell_type": "code",
      "execution_count": 56,
      "metadata": {
        "colab": {
          "base_uri": "https://localhost:8080/"
        },
        "id": "cASbgfFNO4ka",
        "outputId": "2b51ea9a-8d72-4a41-ba23-a7708b80c4bc"
      },
      "outputs": [
        {
          "output_type": "stream",
          "name": "stdout",
          "text": [
            "              precision    recall  f1-score   support\n",
            "\n",
            "       False       0.80      0.99      0.89      2846\n",
            "        True       0.46      0.04      0.07       720\n",
            "\n",
            "    accuracy                           0.80      3566\n",
            "   macro avg       0.63      0.51      0.48      3566\n",
            "weighted avg       0.73      0.80      0.72      3566\n",
            "\n"
          ]
        }
      ],
      "source": [
        "print(classification_report(y_valid, binary_predictions))"
      ]
    },
    {
      "cell_type": "code",
      "execution_count": 57,
      "metadata": {
        "colab": {
          "base_uri": "https://localhost:8080/"
        },
        "id": "ucGrQuEOO_61",
        "outputId": "8ba975d6-8fab-45ff-fd5b-1ae3b9f1aecc"
      },
      "outputs": [
        {
          "output_type": "stream",
          "name": "stdout",
          "text": [
            "La metrica del modelo para validacion es:  0.6677603068634341\n"
          ]
        }
      ],
      "source": [
        "metric = roc_auc_score(y_valid, proab_predictions)\n",
        "print(\"La metrica del modelo para validacion es: \", metric)"
      ]
    },
    {
      "cell_type": "markdown",
      "metadata": {
        "id": "ZevHX3H3-McR"
      },
      "source": [
        "## Una vez que termino con mi modelo uso el test"
      ]
    },
    {
      "cell_type": "code",
      "execution_count": 58,
      "metadata": {
        "id": "t-bHG5A6yY1J"
      },
      "outputs": [],
      "source": [
        "x_test = test_df[test_df.columns[2:-2]]\n",
        "y_test = test_df[test_df.columns[-2]]"
      ]
    },
    {
      "cell_type": "code",
      "execution_count": 59,
      "metadata": {
        "id": "BIp-y_B5imHq"
      },
      "outputs": [],
      "source": [
        "# Encodeo content del test_df"
      ]
    },
    {
      "cell_type": "code",
      "execution_count": 60,
      "metadata": {
        "id": "L_arA4zohwUy"
      },
      "outputs": [],
      "source": [
        "content_list_x_test = x_test['content'].to_list()"
      ]
    },
    {
      "cell_type": "code",
      "execution_count": 61,
      "metadata": {
        "id": "tCwKZHWBhwSc"
      },
      "outputs": [],
      "source": [
        "tf_idf_matrix_x_test = tf_idf_vectorizer.transform(content_list_x_test)\n",
        "tf_idf_array_x_test = tf_idf_matrix_x_test.toarray()"
      ]
    },
    {
      "cell_type": "code",
      "execution_count": 62,
      "metadata": {
        "id": "jVt80B5ihwQF"
      },
      "outputs": [],
      "source": [
        "most_common_words_x_test_df = pd.DataFrame(tf_idf_array_x_test, columns=tf_idf_vectorizer.get_feature_names_out())"
      ]
    },
    {
      "cell_type": "code",
      "execution_count": 63,
      "metadata": {
        "id": "egdOeTK9iPUl"
      },
      "outputs": [],
      "source": [
        "x_test = pd.concat([x_test.reset_index(), most_common_words_x_test_df.reset_index()], axis=1)"
      ]
    },
    {
      "cell_type": "code",
      "execution_count": 64,
      "metadata": {
        "id": "yf0_cOzPiPSg"
      },
      "outputs": [],
      "source": [
        "x_test = x_test.drop(columns=['index', 'content'])"
      ]
    },
    {
      "cell_type": "code",
      "execution_count": 65,
      "metadata": {
        "id": "CPNAHnXwhwNw"
      },
      "outputs": [],
      "source": [
        "# Encodeo surpirse1 y 2 del test_df"
      ]
    },
    {
      "cell_type": "code",
      "execution_count": 66,
      "metadata": {
        "id": "RFZKzewt15X5",
        "colab": {
          "base_uri": "https://localhost:8080/"
        },
        "outputId": "42bdd4fd-6fdc-47f5-e7b1-a71666a232a4"
      },
      "outputs": [
        {
          "output_type": "stream",
          "name": "stderr",
          "text": [
            "/usr/local/lib/python3.7/dist-packages/sklearn/preprocessing/_label.py:133: DataConversionWarning: A column-vector y was passed when a 1d array was expected. Please change the shape of y to (n_samples, ), for example using ravel().\n",
            "  y = column_or_1d(y, warn=True)\n"
          ]
        }
      ],
      "source": [
        "encoded_surprise1_x_test = label_enc_surprise1.transform(x_test[['surprise1']]).astype(int)\n",
        "encoded_surprise2_x_test = label_enc_surprise2.transform(x_test[['surprise2']]).astype(int)"
      ]
    },
    {
      "cell_type": "code",
      "execution_count": 67,
      "metadata": {
        "id": "DA_I5Vwi9VB8"
      },
      "outputs": [],
      "source": [
        "x_test.surprise1 = encoded_surprise1_x_test\n",
        "x_test.surprise2 = encoded_surprise2_x_test"
      ]
    },
    {
      "cell_type": "code",
      "source": [
        "x_test['LDA_00'].fillna(x_test['LDA_00'].mean(), inplace=True)\n",
        "x_test['LDA_01'].fillna(x_test['LDA_01'].mean(), inplace=True)\n",
        "x_test['LDA_03'].fillna(x_test['LDA_03'].mean(), inplace=True)\n",
        "x_test['global_rate_positive_words'].fillna(x_test['global_rate_positive_words'].mean(), inplace=True)\n",
        "x_test['rate_negative_words'].fillna(x_test['rate_negative_words'].min(), inplace=True)\n",
        "x_test.fillna(0.0, inplace=True)"
      ],
      "metadata": {
        "id": "5EzJHjHnk9Wk"
      },
      "execution_count": 68,
      "outputs": []
    },
    {
      "cell_type": "code",
      "execution_count": 69,
      "metadata": {
        "id": "o8g6wsKX9Oot"
      },
      "outputs": [],
      "source": [
        "binary_predictions = best_clf.predict(x_test)"
      ]
    },
    {
      "cell_type": "code",
      "execution_count": 70,
      "metadata": {
        "id": "LnLCHC_i9eoz"
      },
      "outputs": [],
      "source": [
        "proab_predictions = best_clf.predict_proba(x_test)[:,1]"
      ]
    },
    {
      "cell_type": "code",
      "execution_count": 71,
      "metadata": {
        "colab": {
          "base_uri": "https://localhost:8080/"
        },
        "id": "_Q7Dlc_y9iwJ",
        "outputId": "a25eb938-c1d0-4c6b-e931-8507a8152d34"
      },
      "outputs": [
        {
          "output_type": "stream",
          "name": "stdout",
          "text": [
            "              precision    recall  f1-score   support\n",
            "\n",
            "       False       0.85      0.97      0.91      3347\n",
            "        True       0.36      0.08      0.13       634\n",
            "\n",
            "    accuracy                           0.83      3981\n",
            "   macro avg       0.60      0.53      0.52      3981\n",
            "weighted avg       0.77      0.83      0.78      3981\n",
            "\n"
          ]
        }
      ],
      "source": [
        "print(classification_report(y_test, binary_predictions))"
      ]
    },
    {
      "cell_type": "code",
      "execution_count": 72,
      "metadata": {
        "colab": {
          "base_uri": "https://localhost:8080/"
        },
        "id": "9sDfyCVW9n8a",
        "outputId": "4d5afc65-852b-4f9e-959f-80961f9a5ebc"
      },
      "outputs": [
        {
          "output_type": "stream",
          "name": "stdout",
          "text": [
            "La metrica del modelo para test es:  0.7010454298260413\n"
          ]
        }
      ],
      "source": [
        "metric = roc_auc_score(y_test, proab_predictions)\n",
        "print(\"La metrica del modelo para test es: \", metric)"
      ]
    },
    {
      "cell_type": "code",
      "execution_count": 73,
      "metadata": {
        "id": "brq6jHRLziws"
      },
      "outputs": [],
      "source": [
        "scores_test = pd.DataFrame(best_clf.cv_results_)\n",
        "scores_test.to_csv('/content/drive/MyDrive/Orga Datos/TP3/TP3-OK/scores_logReg_test.csv')"
      ]
    },
    {
      "cell_type": "markdown",
      "metadata": {
        "id": "vEecoBHexSkN"
      },
      "source": [
        "### Busco las features mas importantes"
      ]
    },
    {
      "cell_type": "code",
      "execution_count": 74,
      "metadata": {
        "id": "r_HiHWQA0wDA"
      },
      "outputs": [],
      "source": [
        "logRegCoef = abs(best_clf.best_estimator_.coef_[0]).tolist()"
      ]
    },
    {
      "cell_type": "code",
      "execution_count": 75,
      "metadata": {
        "id": "1b6uBR9U349m"
      },
      "outputs": [],
      "source": [
        "logRegFeatureNames = best_clf.best_estimator_.feature_names_in_.tolist()"
      ]
    },
    {
      "cell_type": "code",
      "execution_count": 76,
      "metadata": {
        "id": "Y3RXJWqfjquo"
      },
      "outputs": [],
      "source": [
        "datos = []\n",
        "for i in range(len(logRegFeatureNames)):\n",
        "  datos.append((logRegFeatureNames[i], logRegCoef[i]))\n",
        "datos.sort(key=lambda x: x[1], reverse=True)"
      ]
    },
    {
      "cell_type": "code",
      "execution_count": 77,
      "metadata": {
        "id": "yilJ8YunmnLF"
      },
      "outputs": [],
      "source": [
        "top_names = []\n",
        "top_coef = []\n",
        "for i in range(5):\n",
        "  top_names.append(datos[i][0])\n",
        "  top_coef.append(datos[i][1])"
      ]
    },
    {
      "cell_type": "code",
      "execution_count": 78,
      "metadata": {
        "colab": {
          "base_uri": "https://localhost:8080/",
          "height": 784
        },
        "id": "h9MmkmnBh4uZ",
        "outputId": "e88ea6f4-7384-4df2-be8f-f4af126f63c9"
      },
      "outputs": [
        {
          "output_type": "display_data",
          "data": {
            "text/plain": [
              "<Figure size 900x600 with 1 Axes>"
            ],
            "image/png": "[encoded data removed]"
          },
          "metadata": {
            "needs_background": "light"
          }
        }
      ],
      "source": [
        "plt.figure(dpi=150)\n",
        "sns.barplot(x=top_names, y=top_coef, palette='plasma')\n",
        "plt.title(\"Top 5 features mas imporantes de la\\n Regresion Logistica\")\n",
        "plt.ylabel(\"Coeficiente\")\n",
        "plt.xlabel(\"Feature\")\n",
        "plt.xticks(rotation=30)\n",
        "plt.show()"
      ]
    }
  ],
  "metadata": {
    "colab": {
      "collapsed_sections": [],
      "name": "Parte2-Logistic-Regression.ipynb",
      "provenance": []
    },
    "kernelspec": {
      "display_name": "Python 3",
      "name": "python3"
    },
    "language_info": {
      "name": "python"
    }
  },
  "nbformat": 4,
  "nbformat_minor": 0
}